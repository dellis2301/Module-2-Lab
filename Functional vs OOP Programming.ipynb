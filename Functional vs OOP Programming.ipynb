{
 "cells": [
  {
   "cell_type": "markdown",
   "id": "7e701f4a-efa4-4d08-b202-fd4b2465778f",
   "metadata": {},
   "source": [
    "Given an array arr[] containing only 0s, 1s, and 2s. Sort the array in ascending order.\n",
    "Note: You need to solve this problem without utilizing the built-in sort function."
   ]
  },
  {
   "cell_type": "code",
   "execution_count": null,
   "id": "b8f2a7be-bc4d-441f-b08b-c0ffada60e4b",
   "metadata": {},
   "outputs": [],
   "source": [
    "class Solution:\n",
    "    def sort012(self, arr):\n",
    "        count0 = count1 = count2 = 0\n",
    "\n",
    "        # Count occurrences\n",
    "        for num in arr:\n",
    "            if num == 0:\n",
    "                count0 += 1\n",
    "            elif num == 1:\n",
    "                count1 += 1\n",
    "            else:\n",
    "                count2 += 1\n",
    "\n",
    "        # Rewrite array\n",
    "        index = 0\n",
    "        for _ in range(count0):\n",
    "            arr[index] = 0\n",
    "            index += 1\n",
    "        for _ in range(count1):\n",
    "            arr[index] = 1\n",
    "            index += 1\n",
    "        for _ in range(count2):\n",
    "            arr[index] = 2\n",
    "            index += 1\n",
    "\n",
    "        return arr\n"
   ]
  },
  {
   "cell_type": "markdown",
   "id": "47b84086-a58d-4445-b70c-1c86611d23ae",
   "metadata": {},
   "source": [
    "Given a sorted array arr[] and an integer k, find the position(0-based indexing) at which k is present in the array using binary search. If k doesn't exist in arr[] return -1. \n",
    "\n",
    "Note: If multiple occurrences are there, please return the smallest index."
   ]
  },
  {
   "cell_type": "code",
   "execution_count": null,
   "id": "aafd6c3a-2a71-4da0-bf59-5c24e3de6844",
   "metadata": {},
   "outputs": [],
   "source": [
    "class Solution:\n",
    "    def binarysearch(self, arr, k):\n",
    "        low, high = 0, len(arr) - 1\n",
    "        result = -1  \n",
    "\n",
    "        while low <= high:\n",
    "            mid = (low + high) // 2\n",
    "\n",
    "            if arr[mid] == k:\n",
    "                result = mid       # store index\n",
    "                high = mid - 1     # keep searching left\n",
    "            elif arr[mid] < k:\n",
    "                low = mid + 1\n",
    "            else:\n",
    "                high = mid - 1\n",
    "\n",
    "        return result\n"
   ]
  }
 ],
 "metadata": {
  "kernelspec": {
   "display_name": "Python [conda env:base] *",
   "language": "python",
   "name": "conda-base-py"
  },
  "language_info": {
   "codemirror_mode": {
    "name": "ipython",
    "version": 3
   },
   "file_extension": ".py",
   "mimetype": "text/x-python",
   "name": "python",
   "nbconvert_exporter": "python",
   "pygments_lexer": "ipython3",
   "version": "3.13.5"
  }
 },
 "nbformat": 4,
 "nbformat_minor": 5
}
