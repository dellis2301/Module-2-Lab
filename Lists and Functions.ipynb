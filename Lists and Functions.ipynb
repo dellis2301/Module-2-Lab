{
 "cells": [
  {
   "cell_type": "markdown",
   "id": "0eb5972f-da50-4e6c-b1ca-eeef5654d18a",
   "metadata": {},
   "source": [
    "7.4 Make a list called `things` with these three strings as elements: \n",
    "\"mozzarella\", \"cinderella\", \"salmonella\"."
   ]
  },
  {
   "cell_type": "code",
   "execution_count": null,
   "id": "62122cb0-517a-4a34-86bf-5ee2324899a7",
   "metadata": {},
   "outputs": [],
   "source": [
    "things = [\"mozzarella\", \"cinderella\", \"salmonella\"]"
   ]
  },
  {
   "cell_type": "markdown",
   "id": "ac248955-8fe8-45a4-86cb-169a0fba29ad",
   "metadata": {},
   "source": [
    "7.5 Capitalize the element in things that refers to a person and then print the list. \n",
    "Did it change the element in the list?"
   ]
  },
  {
   "cell_type": "code",
   "execution_count": null,
   "id": "3799549e-6e0e-4755-9558-07f3374912e0",
   "metadata": {},
   "outputs": [],
   "source": [
    "things[1] = things[1].capitalize()\n",
    "print(things)"
   ]
  },
  {
   "cell_type": "markdown",
   "id": "c0f71ad0-551e-489b-addf-5340685105b2",
   "metadata": {},
   "source": [
    "7.6 Make the cheesy element of things all uppercase and then print the list."
   ]
  },
  {
   "cell_type": "code",
   "execution_count": null,
   "id": "5b30ddcf-89a6-46b9-ab64-497a784c9cce",
   "metadata": {},
   "outputs": [],
   "source": [
    "things[0] = things[0].upper()\n",
    "print(things)"
   ]
  },
  {
   "cell_type": "markdown",
   "id": "1c5df96b-470f-4822-8233-1588fb20535f",
   "metadata": {},
   "source": [
    "7.7 Delete the disease element from things, collect your Nobel Prize, and print the list."
   ]
  },
  {
   "cell_type": "code",
   "execution_count": null,
   "id": "b016025b-1e7f-4577-a164-0e1fe3fcac6c",
   "metadata": {},
   "outputs": [],
   "source": [
    "del things[2]\n",
    "print(things)"
   ]
  },
  {
   "cell_type": "markdown",
   "id": "eaad3a6c-6ef7-4146-a7fd-4516343e0dc3",
   "metadata": {},
   "source": [
    "9.1 Define a function called 'good()'that returns the following list: \n",
    "'Harry', 'Ron', 'Hermione'.\n"
   ]
  },
  {
   "cell_type": "code",
   "execution_count": null,
   "id": "567c135e-75c8-4fa1-bd4f-bb46a25383bc",
   "metadata": {},
   "outputs": [],
   "source": [
    "def good():\n",
    "    return ['Harry', 'Ron', 'Hermione']\n",
    "\n",
    "print(good())"
   ]
  },
  {
   "cell_type": "markdown",
   "id": "0d6e3d41-1c2d-4c4f-890b-6713afea0213",
   "metadata": {},
   "source": [
    "9.2 Define a generator function called `get_odds()` that returns the odd numbers \n",
    "from range(10). Use a for loop to find and print the third value returned."
   ]
  },
  {
   "cell_type": "code",
   "execution_count": null,
   "id": "52d83651-cadf-4d74-ae38-3000d60ec11a",
   "metadata": {},
   "outputs": [],
   "source": [
    "def get_odds():\n",
    "    for num in range(10):\n",
    "        if num % 2 == 1:\n",
    "            yield num\n",
    "\n",
    "count = 0\n",
    "for odd in get_odds():\n",
    "    count += 1\n",
    "    if count == 3:\n",
    "        print(\"The third odd number is:\", odd)\n",
    "        break"
   ]
  }
 ],
 "metadata": {
  "kernelspec": {
   "display_name": "Python [conda env:base] *",
   "language": "python",
   "name": "conda-base-py"
  },
  "language_info": {
   "codemirror_mode": {
    "name": "ipython",
    "version": 3
   },
   "file_extension": ".py",
   "mimetype": "text/x-python",
   "name": "python",
   "nbconvert_exporter": "python",
   "pygments_lexer": "ipython3",
   "version": "3.13.5"
  }
 },
 "nbformat": 4,
 "nbformat_minor": 5
}
