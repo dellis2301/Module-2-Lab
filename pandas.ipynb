{
 "cells": [
  {
   "cell_type": "code",
   "execution_count": null,
   "id": "bd169716-778e-47a3-b65c-d99d93443e76",
   "metadata": {},
   "outputs": [],
   "source": [
    "import pandas as pd"
   ]
  },
  {
   "cell_type": "code",
   "execution_count": null,
   "id": "60fb0186-9974-46f7-87cc-a7b5e184fcba",
   "metadata": {},
   "outputs": [],
   "source": [
    "pd."
   ]
  },
  {
   "cell_type": "markdown",
   "id": "57228e58-c5eb-4d50-9b11-300458d4d15f",
   "metadata": {},
   "source": [
    "1. Create"
   ]
  },
  {
   "cell_type": "markdown",
   "id": "a75ea8bd-3284-4ef0-86ff-dbe0e62a880e",
   "metadata": {},
   "source": [
    "1.1 Create from a CSV"
   ]
  },
  {
   "cell_type": "code",
   "execution_count": null,
   "id": "a33d109a-8c6a-436a-b6d2-8883a672d031",
   "metadata": {},
   "outputs": [],
   "source": [
    "df = pd.read_CSV('telco_churn.csv')"
   ]
  },
  {
   "cell_type": "markdown",
   "id": "0daffcb7-e167-4355-80ab-16238a42c011",
   "metadata": {},
   "source": [
    "1.2 Create from a dictionary"
   ]
  },
  {
   "cell_type": "code",
   "execution_count": null,
   "id": "bb7d6e18-5ac5-45eb-bc42-e0a66952f804",
   "metadata": {},
   "outputs": [],
   "source": [
    "tempdict = {'coll':[1,2,3], 'col2':[4,5,6],"
   ]
  },
  {
   "cell_type": "code",
   "execution_count": null,
   "id": "0593977d-91ce-48fa-9225-bd15c69bba00",
   "metadata": {},
   "outputs": [],
   "source": [
    "dictdf = pd.DataFrame.from_dict(tempdict)"
   ]
  },
  {
   "cell_type": "markdown",
   "id": "dfc272ca-e72b-4d8a-a29e-f345e72897f6",
   "metadata": {},
   "source": [
    "2. Read"
   ]
  },
  {
   "cell_type": "markdown",
   "id": "57775147-b37f-4cd4-8237-09c1f95cab77",
   "metadata": {},
   "source": [
    "2.1 show top 5 and bottom 5 rows"
   ]
  },
  {
   "cell_type": "code",
   "execution_count": null,
   "id": "d95ee69c-6455-4481-a8d9-041ab846d907",
   "metadata": {},
   "outputs": [],
   "source": [
    "df.head(10)"
   ]
  },
  {
   "cell_type": "code",
   "execution_count": null,
   "id": "dec52fe0-ec17-402b-a1e8-8bf8f55795ac",
   "metadata": {},
   "outputs": [],
   "source": [
    "dictdf.head()"
   ]
  },
  {
   "cell_type": "code",
   "execution_count": null,
   "id": "5b868575-5799-4ce7-889c-8e627ec4f9a8",
   "metadata": {},
   "outputs": [],
   "source": [
    "df.tail()"
   ]
  },
  {
   "cell_type": "code",
   "execution_count": null,
   "id": "fc4ac450-9829-41e3-8252-633b76144f06",
   "metadata": {},
   "outputs": [],
   "source": [
    "df.columns()"
   ]
  },
  {
   "cell_type": "code",
   "execution_count": null,
   "id": "f564d2b7-6df8-45a5-9607-4519b6031854",
   "metadata": {},
   "outputs": [],
   "source": [
    "df.dtypes()"
   ]
  },
  {
   "cell_type": "code",
   "execution_count": null,
   "id": "5f557dd9-4790-466a-9b17-522f0dc1a9bd",
   "metadata": {},
   "outputs": [],
   "source": [
    "df.describe()"
   ]
  },
  {
   "cell_type": "code",
   "execution_count": null,
   "id": "0bcd21f4-228d-4a2e-b894-5a02437fcca5",
   "metadata": {},
   "outputs": [],
   "source": [
    "df.describe(include='object')"
   ]
  },
  {
   "cell_type": "code",
   "execution_count": null,
   "id": "f08efc03-bd33-4445-aa74-39dddf911f05",
   "metadata": {},
   "outputs": [],
   "source": []
  }
 ],
 "metadata": {
  "kernelspec": {
   "display_name": "Python [conda env:base] *",
   "language": "python",
   "name": "conda-base-py"
  },
  "language_info": {
   "codemirror_mode": {
    "name": "ipython",
    "version": 3
   },
   "file_extension": ".py",
   "mimetype": "text/x-python",
   "name": "python",
   "nbconvert_exporter": "python",
   "pygments_lexer": "ipython3",
   "version": "3.13.5"
  }
 },
 "nbformat": 4,
 "nbformat_minor": 5
}
