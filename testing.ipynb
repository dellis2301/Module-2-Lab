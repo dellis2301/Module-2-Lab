{
 "cells": [
  {
   "cell_type": "markdown",
   "id": "e4270b00-13ad-4e95-a2f4-4a0ea43e5474",
   "metadata": {},
   "source": [
    "Create a new project folder and, inside that, create a new folder called my_sum. Inside my_sum, create an empty file called __init__.py."
   ]
  },
  {
   "cell_type": "markdown",
   "id": "c2a69adf-a07f-426c-8dd6-ef663416f5d4",
   "metadata": {},
   "source": [
    "Open up my_sum/__init__.py and create a new function called sum(), which takes an iterable (a list, tuple, or set) and adds the values together."
   ]
  },
  {
   "cell_type": "code",
   "execution_count": null,
   "id": "74b0f571-7c77-437c-95f5-6416c622562f",
   "metadata": {},
   "outputs": [],
   "source": [
    "def sum(arg):\n",
    "    total = 0\n",
    "    for val in arg:\n",
    "        total += val\n",
    "    return total"
   ]
  },
  {
   "cell_type": "markdown",
   "id": "ce3cf15f-9d9d-4bb9-aa94-bce3fae11c69",
   "metadata": {},
   "source": [
    "Another way is using the unittest command line."
   ]
  },
  {
   "cell_type": "code",
   "execution_count": null,
   "id": "5aa2d89c-dbf2-4202-aac1-485d15a1868c",
   "metadata": {},
   "outputs": [],
   "source": [
    "python -m unittest test"
   ]
  },
  {
   "cell_type": "markdown",
   "id": "5bfccb39-6fc5-40a5-a78f-795c25f86e77",
   "metadata": {},
   "source": [
    "At the top of the test.py file, add an import statement to import the Fraction type from the fractions module in the standard library"
   ]
  },
  {
   "cell_type": "code",
   "execution_count": null,
   "id": "4f9f5594-e9f0-4f32-89f1-f47e2395ec23",
   "metadata": {},
   "outputs": [],
   "source": [
    "from fractions import Fraction"
   ]
  },
  {
   "cell_type": "markdown",
   "id": "1ee08427-35d5-4599-8959-1090e4294ce4",
   "metadata": {},
   "source": [
    "Now add a test with an assertion expecting the incorrect value, in this case expecting the sum of 1/4, 1/4, and 2/5 to be 1"
   ]
  },
  {
   "cell_type": "code",
   "execution_count": null,
   "id": "69c2d206-bae4-45c1-9292-e2d7cb127738",
   "metadata": {},
   "outputs": [],
   "source": [
    " def test_list_fraction(self):\n",
    "        \"\"\"\n",
    "        Test that it can sum a list of fractions\n",
    "        \"\"\"\n",
    "        data = [Fraction(1, 4), Fraction(1, 4), Fraction(2, 5)]\n",
    "        result = sum(data)\n",
    "        self.assertEqual(result, 1)"
   ]
  },
  {
   "cell_type": "markdown",
   "id": "aa9c3c2d-868d-44e0-b55b-fdeec3dd467d",
   "metadata": {},
   "source": [
    "All the unit tests passed successfully, which means the functions produced the expected results for the inputs tested. This indicates that the code is working correctly and behaves as intended. Passing tests give confidence that the program’s logic is correct for the scenarios we checked."
   ]
  }
 ],
 "metadata": {
  "kernelspec": {
   "display_name": "Python [conda env:base] *",
   "language": "python",
   "name": "conda-base-py"
  },
  "language_info": {
   "codemirror_mode": {
    "name": "ipython",
    "version": 3
   },
   "file_extension": ".py",
   "mimetype": "text/x-python",
   "name": "python",
   "nbconvert_exporter": "python",
   "pygments_lexer": "ipython3",
   "version": "3.13.5"
  }
 },
 "nbformat": 4,
 "nbformat_minor": 5
}
