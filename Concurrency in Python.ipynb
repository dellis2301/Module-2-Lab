{
 "cells": [
  {
   "cell_type": "code",
   "execution_count": null,
   "id": "a974ec3c-ceb6-4db6-8d3f-531ac8078f00",
   "metadata": {},
   "outputs": [],
   "source": [
    "13.1 We use Python’s datetime module to get the current date and write it to a text file named today.txt ."
   ]
  },
  {
   "cell_type": "code",
   "execution_count": null,
   "id": "b93f9d41-f1b1-43d7-b81d-3413fe0da8f2",
   "metadata": {},
   "outputs": [],
   "source": [
    "from datetime import date\n",
    "\n",
    "# Get today's date\n",
    "today = date.today()\n",
    "\n",
    "# Write the current date as a string to today.txt\n",
    "with open(\"today.txt\", \"w\") as file:\n",
    "    file.write(str(today))\n",
    "\n",
    "print(\"Today's date written to today.txt:\", today)\n"
   ]
  },
  {
   "cell_type": "markdown",
   "id": "fff4f84c-6b1a-4455-907c-703d351c4b4b",
   "metadata": {},
   "source": [
    "13.2 We open the today.txt file created in 13.1 and read its contents into a string variable called today_string."
   ]
  },
  {
   "cell_type": "code",
   "execution_count": null,
   "id": "bf74a3d4-dfa0-4a0f-8928-d70416c8f1fd",
   "metadata": {},
   "outputs": [],
   "source": [
    "# Read the content of today.txt into a string\n",
    "with open(\"today.txt\", \"r\") as file:\n",
    "    today_string = file.read()\n",
    "\n",
    "print(\"Content of today.txt:\", today_string)\n"
   ]
  },
  {
   "cell_type": "markdown",
   "id": "a7be976b-902f-4658-9d7f-7f9f1fc9594d",
   "metadata": {},
   "source": [
    "13.3 Now, we take the string from today_string and convert it back into a Python date object using the datetime.strptime() method."
   ]
  },
  {
   "cell_type": "code",
   "execution_count": null,
   "id": "942a4fa4-bb3f-426c-80b8-4a84c1320a81",
   "metadata": {},
   "outputs": [],
   "source": [
    "from datetime import datetime\n",
    "\n",
    "# Parse the date string into a date object\n",
    "parsed_date = datetime.strptime(today_string, \"%Y-%m-%d\").date()\n",
    "\n",
    "print(\"Parsed date object:\", parsed_date)\n",
    "print(\"Type:\", type(parsed_date))\n"
   ]
  },
  {
   "cell_type": "markdown",
   "id": "6e8a138d-4fb3-4704-af2f-046c53c6781a",
   "metadata": {},
   "source": [
    "15.1 In this task, we use Python’s multiprocessing module to create three separate processes.\n",
    "Each process will:\n",
    "\n",
    "Wait for a random number of seconds between 0 and 1.\n",
    "\n",
    "Print the current time after waiting.\n",
    "\n",
    "Then exit."
   ]
  },
  {
   "cell_type": "code",
   "execution_count": null,
   "id": "98d505c8-f788-4aba-b367-34a680d6e019",
   "metadata": {},
   "outputs": [],
   "source": [
    "import multiprocessing\n",
    "import random\n",
    "import time\n",
    "from datetime import datetime\n",
    "\n",
    "def worker(process_name):\n",
    "    \"\"\"Each worker waits a random time, prints the current time, and exits.\"\"\"\n",
    "    wait = random.random()  # random number between 0 and 1\n",
    "    time.sleep(wait)\n",
    "    print(f\"Process {process_name} finished at {datetime.now().strftime('%H:%M:%S.%f')} after waiting {wait:.2f} seconds\")\n",
    "\n",
    "if __name__ == \"__main__\":\n",
    "    # Create and start three separate processes\n",
    "    processes = []\n",
    "    for i in range(3):\n",
    "        p = multiprocessing.Process(target=worker, args=(f\"P{i+1}\",))\n",
    "        processes.append(p)\n",
    "        p.start()\n",
    "\n",
    "    # Wait for all processes to finish\n",
    "    for p in processes:\n",
    "        p.join()\n",
    "\n",
    "    print(\"All processes completed.\")\n"
   ]
  }
 ],
 "metadata": {
  "kernelspec": {
   "display_name": "Python [conda env:base] *",
   "language": "python",
   "name": "conda-base-py"
  },
  "language_info": {
   "codemirror_mode": {
    "name": "ipython",
    "version": 3
   },
   "file_extension": ".py",
   "mimetype": "text/x-python",
   "name": "python",
   "nbconvert_exporter": "python",
   "pygments_lexer": "ipython3",
   "version": "3.13.5"
  }
 },
 "nbformat": 4,
 "nbformat_minor": 5
}
