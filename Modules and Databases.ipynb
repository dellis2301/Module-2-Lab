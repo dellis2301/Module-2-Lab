{
 "cells": [
  {
   "cell_type": "markdown",
   "id": "5b11b21c-eade-4a44-baf7-d11c11832e77",
   "metadata": {},
   "source": [
    "11.1\n",
    "Create a file called zoo.py with a function hours() that prints 'Open 9-5 daily'. Import it and call the function."
   ]
  },
  {
   "cell_type": "code",
   "execution_count": null,
   "id": "85e448c0-d87a-49c5-b0cf-46a26a81a4e4",
   "metadata": {},
   "outputs": [],
   "source": [
    "def hours():\n",
    "    print(\"Open 9-5 daily\")"
   ]
  },
  {
   "cell_type": "code",
   "execution_count": null,
   "id": "65941523-252c-46ec-9377-82d65620804e",
   "metadata": {},
   "outputs": [],
   "source": [
    "import zoo\n",
    "zoo.hours() "
   ]
  },
  {
   "cell_type": "markdown",
   "id": "76f4bf75-a471-42a7-b264-e78e622e1912",
   "metadata": {},
   "source": [
    "11.2\n",
    "Import zoo module as menagerie and call hours()."
   ]
  },
  {
   "cell_type": "code",
   "execution_count": null,
   "id": "a8ae24bd-448f-46ae-a755-cf49e9314665",
   "metadata": {},
   "outputs": [],
   "source": [
    "import zoo as menagerie\n",
    "menagerie.hours()  \n"
   ]
  },
  {
   "cell_type": "markdown",
   "id": "814f038b-42cc-4a8a-9d82-d6dc170703cb",
   "metadata": {},
   "source": [
    "16.8\n",
    "Use the SQLAlchemy module to connect to the SQLite database `books.db` that was created in exercise 16.4.  \n",
    "Select and print the `title` column from the `book` table in alphabetical order."
   ]
  },
  {
   "cell_type": "code",
   "execution_count": null,
   "id": "d7a78121-20ff-4d3f-897a-a1d38ee12f20",
   "metadata": {},
   "outputs": [],
   "source": [
    "from sqlalchemy import create_engine, MetaData, Table, select\n",
    "\n",
    "# Connect to the SQLite database\n",
    "engine = create_engine('sqlite:///books.db')\n",
    "\n",
    "# Reflect the existing database\n",
    "metadata = MetaData()\n",
    "book_table = Table('book', metadata, autoload_with=engine)\n",
    "\n",
    "# Build a select statement for the title column, ordered alphabetically\n",
    "stmt = select(book_table.c.title).order_by(book_table.c.title)\n",
    "\n",
    "# Execute the statement and fetch results\n",
    "with engine.connect() as conn:\n",
    "    results = conn.execute(stmt).fetchall()\n",
    "\n",
    "# Print all book titles\n",
    "for row in results:\n",
    "    print(row[0])"
   ]
  }
 ],
 "metadata": {
  "kernelspec": {
   "display_name": "Python [conda env:base] *",
   "language": "python",
   "name": "conda-base-py"
  },
  "language_info": {
   "codemirror_mode": {
    "name": "ipython",
    "version": 3
   },
   "file_extension": ".py",
   "mimetype": "text/x-python",
   "name": "python",
   "nbconvert_exporter": "python",
   "pygments_lexer": "ipython3",
   "version": "3.13.5"
  }
 },
 "nbformat": 4,
 "nbformat_minor": 5
}
