{
 "cells": [
  {
   "cell_type": "markdown",
   "id": "460d9666-d494-4ac6-b8fb-759407ed89a2",
   "metadata": {},
   "source": [
    "#4.1- Guessing game with conditional statements\n",
    "# Choose a number between 1 and 10\n",
    "secret = 7  \n",
    "guess = 5"
   ]
  },
  {
   "cell_type": "code",
   "execution_count": null,
   "id": "a9507d17-5c2b-47eb-95d2-7e5805c8ba64",
   "metadata": {},
   "outputs": [],
   "source": [
    "if guess < secret:\n",
    "    print(\"too low\")\n",
    "elif guess > secret:\n",
    "    print(\"too high\")\n",
    "else:\n",
    "    print(\"just right\")"
   ]
  },
  {
   "cell_type": "markdown",
   "id": "0180e58b-cbd1-4b8e-8337-023048d5c5ec",
   "metadata": {},
   "source": [
    "#4.2- Identify the fruit/vegetable based on size and color\n",
    "# Assign True or False\n",
    "small = True   \n",
    "green = True"
   ]
  },
  {
   "cell_type": "code",
   "execution_count": null,
   "id": "948535ca-a815-43f7-b6d1-2f5b5060c4b3",
   "metadata": {},
   "outputs": [],
   "source": [
    "if small and red:\n",
    "    print(\"cherry\")\n",
    "elif small and green:\n",
    "    print(\"pea\")\n",
    "elif not small and green:\n",
    "    print(\"watermelon\")\n",
    "elif not small and not green:\n",
    "    print(\"pumpkin\")\n",
    "else:\n",
    "    print(\"No match found\")"
   ]
  },
  {
   "cell_type": "markdown",
   "id": "78fcb9a4-cbee-47ca-a99e-de2203123a56",
   "metadata": {},
   "source": [
    "#6.1 - Use a for loop to print the values of the list [3, 2, 1, 0]"
   ]
  },
  {
   "cell_type": "code",
   "execution_count": null,
   "id": "00b0d7ac-4c09-4755-b4f5-d66df547127c",
   "metadata": {},
   "outputs": [],
   "source": [
    "for num in numbers:\n",
    "    print(num)"
   ]
  },
  {
   "cell_type": "markdown",
   "id": "dec54a55-8fc1-4a6e-8217-4738183ff076",
   "metadata": {},
   "source": [
    "#6.2 - While loop to compare number with guess_me\n",
    "\n",
    "guess_me = 7\n",
    "number = 1"
   ]
  },
  {
   "cell_type": "code",
   "execution_count": null,
   "id": "5ccddf43-a71a-4911-872a-b596347a36f4",
   "metadata": {},
   "outputs": [],
   "source": [
    "while True:\n",
    "    if number < guess_me:\n",
    "        print(\"too low\")\n",
    "    elif number == guess_me:\n",
    "        print(\"found it!\")\n",
    "        break\n",
    "    else:  # number > guess_me\n",
    "        print(\"oops\")\n",
    "        break"
   ]
  },
  {
   "cell_type": "markdown",
   "id": "48b302b1-90b0-4fd7-9be3-d9e68459f5b1",
   "metadata": {},
   "source": [
    "#6.3 - For loop to compare number with guess_me\n",
    "\n",
    "guess_me = 5"
   ]
  },
  {
   "cell_type": "code",
   "execution_count": null,
   "id": "11463510-92b7-4314-9cf8-57ab1d839f3d",
   "metadata": {},
   "outputs": [],
   "source": [
    "for number in range(10):\n",
    "    if number < guess_me:\n",
    "        print(\"too low\")\n",
    "    elif number == guess_me:\n",
    "        print(\"found it!\")\n",
    "        break\n",
    "    else:  # number > guess_me\n",
    "        print(\"oops\")\n",
    "        break"
   ]
  }
 ],
 "metadata": {
  "kernelspec": {
   "display_name": "",
   "name": ""
  },
  "language_info": {
   "name": ""
  }
 },
 "nbformat": 4,
 "nbformat_minor": 5
}
